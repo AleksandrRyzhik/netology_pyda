{
 "cells": [
  {
   "cell_type": "markdown",
   "metadata": {},
   "source": [
    "## Задание 1"
   ]
  },
  {
   "cell_type": "markdown",
   "metadata": {},
   "source": [
    "Дан список вида:"
   ]
  },
  {
   "cell_type": "code",
   "execution_count": 1,
   "metadata": {},
   "outputs": [],
   "source": [
    "data = [\n",
    "    [13, 25, 23, 34],\n",
    "    [45, 32, 44, 47],\n",
    "    [12, 33, 23, 95],\n",
    "    [13, 53, 34, 35]\n",
    "]"
   ]
  },
  {
   "cell_type": "markdown",
   "metadata": {},
   "source": [
    "Напишите функцию, которая возвращает сумму элементов на диагонали. Т. е. 13+32+23+35.  \n",
    "Список может быть любой длины, но всегда является \"квадратным\" (количество элементов во вложенных списках равно их количеству)."
   ]
  },
  {
   "cell_type": "code",
   "execution_count": 20,
   "metadata": {},
   "outputs": [],
   "source": [
    "def sum_diagonal(data):\n",
    "    i = 0\n",
    "    measure_diagonal = 0\n",
    "    for measure in data:\n",
    "        measure_diagonal += int(measure[i])\n",
    "        i += 1\n",
    "    return measure_diagonal\n",
    "    print(measure_diagonal)"
   ]
  },
  {
   "cell_type": "markdown",
   "metadata": {},
   "source": [
    "## Задание 2"
   ]
  },
  {
   "cell_type": "markdown",
   "metadata": {},
   "source": [
    "Напишите функцию, возвращающую сумму первых n чисел Фибоначчи (для этого вам может понадобится ознакомиться с рекурсией)."
   ]
  },
  {
   "cell_type": "code",
   "execution_count": 42,
   "metadata": {},
   "outputs": [],
   "source": [
    "def sum_fibonacci(n):\n",
    "    row_for_sum = [2]\n",
    "    if n == 0:\n",
    "        sum_pisanus = 0\n",
    "    elif n == 1:\n",
    "        sum_pisanus = 1\n",
    "    else:\n",
    "        current = 1\n",
    "        previous = 1\n",
    "        leg = 3\n",
    "\n",
    "    while leg + 1 <= n:\n",
    "        sum_pisanus = current + previous \n",
    "        previous = current\n",
    "        current = sum_pisanus\n",
    "        row_for_sum.append(sum_pisanus)\n",
    "        leg +=1\n",
    "    return sum(row_for_sum)"
   ]
  },
  {
   "cell_type": "markdown",
   "metadata": {},
   "source": [
    "## Задание 3\n"
   ]
  },
  {
   "cell_type": "markdown",
   "metadata": {},
   "source": [
    "Напишите функцию, преобразующую произвольный список вида ['2018-01-01', 'yandex', 'cpc', 100] (он может быть любой длины) в словарь {'2018-01-01': {'yandex': {'cpc': 100}}}"
   ]
  },
  {
   "cell_type": "code",
   "execution_count": 285,
   "metadata": {},
   "outputs": [],
   "source": [
    "def dict_from_list(my_list):\n",
    "    my_list.reverse()\n",
    "    dictionary = {my_list[1]:my_list[0]}\n",
    "    i = 2\n",
    "    while i < len(my_list):\n",
    "        d_test = {my_list[i]:dictionary}\n",
    "        dictionary = d_test\n",
    "        i += 1\n",
    "    return dictionary\n",
    "   "
   ]
  },
  {
   "cell_type": "markdown",
   "metadata": {},
   "source": [
    "## Задание 4"
   ]
  },
  {
   "cell_type": "markdown",
   "metadata": {},
   "source": [
    "Вы работаете секретарем и вам постоянно приходят различные документы. Вы должны быть очень внимательны, чтобы не потерять ни один документ. Каталог документов хранится в следующем виде:"
   ]
  },
  {
   "cell_type": "code",
   "execution_count": 223,
   "metadata": {},
   "outputs": [],
   "source": [
    "documents = [\n",
    "    {'type': 'passport', 'number': '2207 876234', 'name': 'Василий Гупкин'},\n",
    "    {'type': 'invoice', 'number': '11-2', 'name': 'Геннадий Покемонов'},\n",
    "    {'type': 'insurance', 'number': '10006', 'name': 'Аристарх Павлов'}\n",
    "]"
   ]
  },
  {
   "cell_type": "markdown",
   "metadata": {},
   "source": [
    "Перечень полок, на которых находятся документы хранится в следующем виде:"
   ]
  },
  {
   "cell_type": "code",
   "execution_count": 224,
   "metadata": {},
   "outputs": [],
   "source": [
    "directories = {\n",
    "    '1': ['2207 876234', '11-2', '5455 028765'],\n",
    "    '2': ['10006', '5400 028765', '5455 002299'],\n",
    "    '3': []\n",
    "}"
   ]
  },
  {
   "cell_type": "markdown",
   "metadata": {},
   "source": [
    "### Необходимо реализовать пользовательские команды (внимание! это не название функций, которые должны быть выразительными, а команды, которые вводит пользователь, чтобы получить необходимый результат):\n",
    "  \n",
    "- p – people – команда, которая спросит номер документа и выведет имя человека, которому он принадлежит;  \n",
    "- s – shelf – команда, которая спросит номер документа и выведет номер полки, на которой он находится  \n",
    "Правильно обработайте ситуацию, когда пользователь будет вводить несуществующий документ.\n",
    "- l – list – команда, которая выведет список всех документов в формате   \n",
    "**passport \"2207 876234\" \"Василий Гупкин\"**  \n",
    "- as – add shelf – команда, которая спросит номер новой полки и добавит ее в перечень\n",
    "- d – delete – команда, которая спросит номер документа и удалит его из каталога и из перечня полок. Предусмотрите сценарий, когда пользователь вводит несуществующий документ;  \n",
    "- m – move – команда, которая спросит номер документа и целевую полку и переместит его с текущей полки на целевую. Корректно обработайте кейсы, когда пользователь пытается переместить несуществующий документ или переместить документ на несуществующую полку;  \n",
    "- a – add – команда, которая добавит новый документ в каталог и в перечень полок, спросив его номер, тип, имя владельца и номер полки, на котором он будет храниться."
   ]
  },
  {
   "cell_type": "code",
   "execution_count": null,
   "metadata": {},
   "outputs": [],
   "source": [
    "def people():\n",
    "    number_doc = input('введите номер документа: ')\n",
    "    for data in documents:\n",
    "        if data['number'] == number_doc:\n",
    "            print(data['name'])\n",
    "# people()\n",
    "\n",
    "def shelf():\n",
    "    doc_number = input('введите номер документа: ')\n",
    "    for key_directories, value_directories in directories.items():\n",
    "        if doc_number in value_directories:\n",
    "            print('документ находится на полке: ', key_directories)\n",
    "\n",
    "#shelf()\n",
    "\n",
    "def l_list():\n",
    "    for data_doc in documents:\n",
    "        print(data_doc['type'],'\"',data_doc['number'],'\"','\"',data_doc['name'],'\"', sep='')\n",
    "# l_list()\n",
    "\n",
    "def add_shelf():\n",
    "    shelf_number = str(input('введите номер полки для добавления: '))\n",
    "    directories.setdefault(shelf_number,[])\n",
    "# add_shelf()\n",
    "\n",
    "def d_delete():\n",
    "    doc_del_index = 0\n",
    "    doc_number_d = input('введите номер документа, который нужно удалить: ') \n",
    "    for doc_data in documents:\n",
    "        if doc_data['number'] == doc_number_d:\n",
    "            break\n",
    "        else:\n",
    "            doc_del_index += 1\n",
    "    if len(documents) <= doc_del_index:\n",
    "        print('документ', doc_number_d, 'не был найден в каталоге документов!')\n",
    "    else:\n",
    "        del(documents[doc_del_index])\n",
    "        print('документ', doc_number_d, 'был удален из каталога документов!')\n",
    "\n",
    "    def find_shelf(doc_number_d):\n",
    "        for key_directories_d, value_directories_d in directories.items():\n",
    "            if doc_number_d in value_directories_d:\n",
    "                return key_directories_d\n",
    "\n",
    "\n",
    "    if doc_number_d in directories.get(find_shelf(doc_number_d),''):\n",
    "        number_shelf=find_shelf(doc_number_d)\n",
    "        directories[find_shelf(doc_number_d)].remove(doc_number_d)\n",
    "        print('документ', doc_number_d, 'был удален c полки', '№', number_shelf, '!')\n",
    "    else:\n",
    "        print('документ', doc_number_d, 'не был найден на полках!')\n",
    "    \n",
    "# d_delete()\n",
    "\n",
    "def move():\n",
    "    doc_number_d = input('введите номер документа, который хотите переместить: ')\n",
    "    doc_in_directories_flag = 0\n",
    "    for doc_list in directories.values():\n",
    "        if doc_number_d in doc_list:\n",
    "            doc_in_directories_flag += 1\n",
    "    if doc_in_directories_flag < 1:\n",
    "        print('документа, который Вы собираетесь переместить, не существует !')\n",
    "    else:\n",
    "        target_shelf = str(input('введите идентификатор полки, на которую хотите переместить документ: '))\n",
    "        if target_shelf not in directories:\n",
    "            print('полки, на которую Вы собираетесь переместить документ, не существует !')  \n",
    "        else:\n",
    "            find_shelf(doc_number_d)\n",
    "            if find_shelf(doc_number_d) != target_shelf:\n",
    "                directories[find_shelf(doc_number_d)].remove(doc_number_d)\n",
    "                directories[target_shelf].append(doc_number_d)\n",
    "                print('документ перемещен!')\n",
    "            else:\n",
    "                print('документ остался на прежней полке!')\n",
    "# move()\n",
    "    \n",
    "def a_add():\n",
    "    type_doc = input('введите тип документа, который хотите внести: ')\n",
    "    number_doc = str(input('введите номер документа, который хотите внести: '))\n",
    "    name_doc = input('введите имя владельца документа: ')\n",
    "    documents.append({'type': type_doc, 'number': number_doc, 'name': name_doc})\n",
    "    if documents[-1] in documents[:-1]:\n",
    "        del(documents[-1])\n",
    "        print('такой документ уже существовал. Введенные данные не были добавлены в каталог документов!')\n",
    "    else:\n",
    "        target_shelf = str(input('введите идентификатор полки, на которую хотите переместить документ: '))\n",
    "        if target_shelf not in directories:\n",
    "            print('полки, на которую Вы собираетесь переместить документ, не существует !')\n",
    "            del(documents[-1])\n",
    "            print('введенные данные не были внесены!')\n",
    "        else:\n",
    "            directories[target_shelf].append(number_doc)\n",
    "            print('Данные внесены!')\n",
    "        \n",
    "        \n",
    "commands=input('Введите команду: ')\n",
    "if commands == 'p':\n",
    "    people()\n",
    "elif commands == 's':\n",
    "    shelf()\n",
    "elif commands == 'l':\n",
    "    l_list()\n",
    "elif commands == 'as':\n",
    "    add_shelf()\n",
    "elif commands == 'd':\n",
    "    d_delete()\n",
    "elif commands == 'm':\n",
    "    move()\n",
    "elif commands == 'a':\n",
    "    a_add()\n",
    "else:\n",
    "    print('такой команды не существует. Ознакомьтесь внимательнее с инструкцией')\n",
    "\n",
    "            \n",
    "    \n",
    "    \n",
    "    "
   ]
  }
 ],
 "metadata": {
  "kernelspec": {
   "display_name": "Python 3",
   "language": "python",
   "name": "python3"
  },
  "language_info": {
   "codemirror_mode": {
    "name": "ipython",
    "version": 3
   },
   "file_extension": ".py",
   "mimetype": "text/x-python",
   "name": "python",
   "nbconvert_exporter": "python",
   "pygments_lexer": "ipython3",
   "version": "3.7.4"
  }
 },
 "nbformat": 4,
 "nbformat_minor": 2
}
