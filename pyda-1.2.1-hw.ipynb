{
 "cells": [
  {
   "cell_type": "markdown",
   "metadata": {},
   "source": [
    "## Задание 1"
   ]
  },
  {
   "cell_type": "markdown",
   "metadata": {},
   "source": [
    "Мы делаем MVP dating-сервиса, и у нас есть список парней и девушек (их число может варьироваться):"
   ]
  },
  {
   "cell_type": "code",
   "execution_count": 78,
   "metadata": {},
   "outputs": [],
   "source": [
    "boys = ['Peter', 'Alex', 'John', 'Arthur', 'Richard']\n",
    "girls = ['Kate', 'Liza', 'Kira', 'Emma', 'Trisha']"
   ]
  },
  {
   "cell_type": "markdown",
   "metadata": {},
   "source": [
    "Выдвигаем гипотезу: лучшие рекомендации мы получим, если просто отсортируем имена по алфавиту и познакомим людей с одинаковыми индексами после сортировки! \"Познакомить\" пары нам поможет функция zip, а в цикле распакуем zip-объект и выведем информацию в виде:\n",
    "\n",
    "Идеальные пары:  \n",
    "Alex и Emma  \n",
    "Arthur и Kate  \n",
    "John и Kira  \n",
    "Peter и Liza  \n",
    "Richard и Trisha  "
   ]
  },
  {
   "cell_type": "code",
   "execution_count": null,
   "metadata": {},
   "outputs": [],
   "source": [
    "print('Идеальные пары:')\n",
    "boys_sorted=sorted(boys)\n",
    "girls_sorted=sorted(girls)\n",
    "z=list(zip(boys_sorted,girls_sorted))\n",
    "for name in z:\n",
    "    print(name[0],'и',name[1])"
   ]
  },
  {
   "cell_type": "markdown",
   "metadata": {},
   "source": [
    "## Задание 2"
   ]
  },
  {
   "cell_type": "markdown",
   "metadata": {},
   "source": [
    "У нас есть список, содержащий информацию о среднедневной температуре в Фаренгейтах за недельный период по странам.\n",
    "Необходимо написать код, который рассчитает среднюю температуру за неделю в Цельсиях для каждой страны."
   ]
  },
  {
   "cell_type": "code",
   "execution_count": 80,
   "metadata": {},
   "outputs": [],
   "source": [
    "countries_temperature = [\n",
    " ['Thailand', [75.2, 77, 78.8, 73.4, 68, 75.2, 77]],\n",
    " ['Germany', [57.2, 55.4, 59, 59, 53.6, 55.4, 57.2]],\n",
    " ['Russia', [35.6, 37.4, 39.2, 41, 42.8, 39.2, 35.6]],\n",
    " ['Poland', [50, 50, 53.6, 57.2, 55.4, 55.4, 51.8]],\n",
    "]"
   ]
  },
  {
   "cell_type": "code",
   "execution_count": null,
   "metadata": {},
   "outputs": [],
   "source": [
    "for country in countries_temperature:\n",
    "    sum_t=0\n",
    "    for temperature in country[1]:\n",
    "        sum_t+=(temperature-32)*5/9\n",
    "    print('Средняя температура в', country[0], round(sum_t/len(country[1]),2))"
   ]
  },
  {
   "cell_type": "markdown",
   "metadata": {},
   "source": [
    "## Задание 3"
   ]
  },
  {
   "cell_type": "markdown",
   "metadata": {},
   "source": [
    "Дан поток логов по количеству просмотренных страниц для каждого пользователя. Список отсортирован по ID пользователя. Вам необходимо написать алгоритм, который считает среднее значение просмотров на пользователя. \n",
    "Т. е. надо посчитать отношение суммы всех просмотров к количеству уникальных пользователей."
   ]
  },
  {
   "cell_type": "code",
   "execution_count": 2,
   "metadata": {},
   "outputs": [],
   "source": [
    "stream = [\n",
    "    '2018-01-01,user1,3',\n",
    "    '2018-01-07,user1,4',\n",
    "    '2018-03-29,user1,1',\n",
    "    '2018-04-04,user1,13',\n",
    "    '2018-01-05,user2,7',\n",
    "    '2018-06-14,user3,4',\n",
    "    '2018-07-02,user3,10',\n",
    "    '2018-03-21,user4,19',\n",
    "    '2018-03-22,user4,4',\n",
    "    '2018-04-22,user4,8',\n",
    "    '2018-05-03,user4,9',\n",
    "    '2018-05-11,user4,11',\n",
    "]"
   ]
  },
  {
   "cell_type": "code",
   "execution_count": null,
   "metadata": {},
   "outputs": [],
   "source": [
    "# создаем словарь из пользователей и суммы просмотров\n",
    "\n",
    "    ## создаем пустые списки, которые будем заполнять\n",
    "users=[]\n",
    "views0=[]\n",
    "users_views1=[]\n",
    "\n",
    "    ## преобразовываем данные в нужные форматы списков и заполняем ранее созданные списки\n",
    "for x in stream:\n",
    "    users_views1.append(x.split(',')[1:])\n",
    "    users.append(x.split(',')[1])\n",
    "    views0.append(0)\n",
    "    \n",
    "    ## создаем словарь из пользователей (пока) нулевых просмотров \n",
    "users_views=dict(zip(users,views0))\n",
    "\n",
    "    ## заполняем словарь суммами просмотров для пользователей\n",
    "for u in users_views1:\n",
    "    find_user=u[0]\n",
    "    if find_user in users_views:\n",
    "        users_views[find_user] += int(u[1])\n",
    "sum_u_v=users_views\n",
    "\n",
    "# создаем словарь из пользователей и количества наблюдений\n",
    "\n",
    "    ## создаем пустые списки, которые будем заполнять\n",
    "users=[]\n",
    "views0=[]\n",
    "users_views1=[]\n",
    "    \n",
    "    ## преобразовываем данные в нужные форматы списков и заполняем ранее созданные списки\n",
    "for x in stream:\n",
    "    users_views1.append(x.split(',')[1:])\n",
    "    users.append(x.split(',')[1])\n",
    "    views0.append(0)\n",
    "    \n",
    "    ## создаем словарь из пользователей (пока) нулевого количества наблюдений\n",
    "users_views=dict(zip(users,views0))\n",
    "    \n",
    "    ## заполняем словарь количеством наблюдений для пользователей\n",
    "for u in users_views1:\n",
    "    find_user=u[0]\n",
    "    if find_user in users_views:\n",
    "        users_views[find_user] += 1\n",
    "\n",
    "# преобразовываем ранее созданные словари в списки \n",
    "Users=list(sum_u_v.keys())\n",
    "SumViews=list(sum_u_v.values())\n",
    "CountViews=list(count_u_v.values())\n",
    "\n",
    "#объединяем списки\n",
    "Users_Views=list(zip(Users,SumViews,CountViews))\n",
    "\n",
    "#выводим итоговый результат среднего числа просмотров для каждого пользователя\n",
    "for i in Users_Views:\n",
    "    print('average views per', i[0], ':', i[1] / i[2])"
   ]
  },
  {
   "cell_type": "markdown",
   "metadata": {},
   "source": [
    "## Задание 4"
   ]
  },
  {
   "cell_type": "markdown",
   "metadata": {},
   "source": [
    "Дана статистика рекламных кампаний по дням. Напишите алгоритм, который по паре дата-кампания ищет значение численного столбца. \n",
    "Т. е. для даты '2018-01-01' и 'google' нужно получить число 25. \n",
    "Считайте, что все комбинации дата-кампания уникальны."
   ]
  },
  {
   "cell_type": "code",
   "execution_count": 82,
   "metadata": {},
   "outputs": [],
   "source": [
    "stats = [\n",
    "    ['2018-01-01', 'google', 25],\n",
    "    ['2018-01-01', 'yandex', 65],\n",
    "    ['2018-01-01', 'market', 89],\n",
    "    ['2018-01-02', 'google', 574],\n",
    "    ['2018-01-02', 'yandex', 249],\n",
    "    ['2018-01-02', 'market', 994],\n",
    "    ['2018-01-03', 'google', 1843],\n",
    "    ['2018-01-03', 'yandex', 1327],\n",
    "    ['2018-01-03', 'market', 1764],\n",
    "]"
   ]
  },
  {
   "cell_type": "code",
   "execution_count": null,
   "metadata": {},
   "outputs": [],
   "source": [
    "date_company=[]\n",
    "stats_values=[]\n",
    "\n",
    "for x in stats:\n",
    "    date_company.append(x[0]+x[1])\n",
    "    stats_values.append(x[2])\n",
    "    \n",
    "stats_dict=dict(list(zip(date_company,stats_values)))\n",
    "\n",
    "stats_keys_date=input('Введите дату (в формате year-month-day): ')\n",
    "stats_keys_company=input('Введите название компании: ')\n",
    "\n",
    "stats_keys=stats_keys_date+stats_keys_company\n",
    "\n",
    "print(stats_dict.get(stats_keys,'Не найдено. Повторите поиск'))\n"
   ]
  }
 ],
 "metadata": {
  "kernelspec": {
   "display_name": "Python 3",
   "language": "python",
   "name": "python3"
  },
  "language_info": {
   "codemirror_mode": {
    "name": "ipython",
    "version": 3
   },
   "file_extension": ".py",
   "mimetype": "text/x-python",
   "name": "python",
   "nbconvert_exporter": "python",
   "pygments_lexer": "ipython3",
   "version": "3.7.4"
  }
 },
 "nbformat": 4,
 "nbformat_minor": 2
}
