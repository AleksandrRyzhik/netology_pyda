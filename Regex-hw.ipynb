{
 "cells": [
  {
   "cell_type": "markdown",
   "metadata": {},
   "source": [
    "# Домашнее задание к лекции \"Регулярные выражения\"\n",
    "Для зачета необходимо выполнить 4 задания.  \n",
    "Для зачета с отличием – все."
   ]
  },
  {
   "cell_type": "markdown",
   "metadata": {},
   "source": [
    "## Задание 1"
   ]
  },
  {
   "cell_type": "markdown",
   "metadata": {},
   "source": [
    "Напишите функцию, которая принимает на вход строку и проверяет является ли она валидным транспортным номером. Если да, то функция должна возвращать отдельно номер и регион."
   ]
  },
  {
   "cell_type": "code",
   "execution_count": null,
   "metadata": {},
   "outputs": [],
   "source": [
    "import re\n",
    "def number_auto_validate():\n",
    "    auto_number = input('введите транспортный номер: ')\n",
    "    auto_number_correct = r'[А-Я]{1}[0-9]{3}[А-Я]{2}[0-9]{2,3}'\n",
    "    if re.match(auto_number_correct,auto_number):\n",
    "        print('номер:', auto_number[:6])\n",
    "        print('код региона:', auto_number[6:])\n",
    "    else:\n",
    "        print('номер транспортного средства введен некорректно')\n",
    "number_auto_validate()"
   ]
  },
  {
   "cell_type": "markdown",
   "metadata": {},
   "source": [
    "## Задание 2"
   ]
  },
  {
   "cell_type": "markdown",
   "metadata": {},
   "source": [
    "Напишите функцию, которая проверяет e-mail адрес на валидность по стандарту RFC822: http://www.w3.org/Protocols/rfc822/. Для этого постарайтесь написать (в крайнем случае найти) самый полный шаблон для проверки e-mail адресов через регулярное выражение. Разберитесь и напишите примеры, какие ваш шаблон может не охватить."
   ]
  },
  {
   "cell_type": "code",
   "execution_count": null,
   "metadata": {},
   "outputs": [],
   "source": [
    "def email_validate():\n",
    "    e_mail = input('введите e-mail: ')\n",
    "    e_mail_validate = r'[\\S]+@\\w+\\.[\\w]+$'\n",
    "    if re.match(e_mail_validate,e_mail):\n",
    "        print (e_mail, 'is a valid email!')\n",
    "        print ('* к сожалению, имя e-mail допускает до \"@\" использование любых символов, кроме пробельных, количество символов не ограничено')\n",
    "    else:\n",
    "        print (e_mail, 'is invalid email!')\n",
    "        \n",
    "email_validate()"
   ]
  },
  {
   "cell_type": "markdown",
   "metadata": {},
   "source": [
    "## Задание 3\n",
    "Напишите функцию, которая будет удалять все последовательные повторы слов из заданной строки."
   ]
  },
  {
   "cell_type": "code",
   "execution_count": null,
   "metadata": {},
   "outputs": [],
   "source": [
    "def del_double_words():\n",
    "    line_str = input('введите предложение: ')\n",
    "    line_list = line_str.split()\n",
    "    i = 0\n",
    "    new_str = line_list[0]\n",
    "    for elem in line_list[1:]:\n",
    "        if elem == line_list[i]:\n",
    "            i += 1\n",
    "            continue\n",
    "        else:\n",
    "            new_str += ' ' + elem\n",
    "    return(new_str)\n",
    "# del_double_words()\n",
    "# print(new_str)"
   ]
  },
  {
   "cell_type": "markdown",
   "metadata": {},
   "source": [
    "## Задание 4\n",
    "Напишите функцию, которая будет проверять номер сотового телефона на валидность, если он валиден, то переводить его в формат:   \n",
    "+7(xxx)-xxx-xx-xx  \n",
    "Постарайтесь предусмотреть как можно больше адекватных форматов изначального ввода номера.\n",
    "Примеры правильных и неправильных форматов:\n",
    "- +7 955 555-55-55;\n",
    "- 955555555;\n",
    "- 8(955)555-55-55;\n",
    "- +7 955 555 55 55;\n",
    "- 7(955) 555-55-55;\n",
    "- +7 955+555+55+55."
   ]
  },
  {
   "cell_type": "code",
   "execution_count": null,
   "metadata": {},
   "outputs": [],
   "source": [
    "def call_number_validate():\n",
    "    call_number = str(input('введите номер телефона: '))\n",
    "    number_valid = r'[\\d]'\n",
    "    valid1 = re.findall(number_valid, call_number)\n",
    "    if ((len(valid1) == 11 and (valid1[0] == '8' or valid1[0] == '7')) \\\n",
    "    or  (len(valid1) == 10 and valid1[0] == '9')): \n",
    "        if valid1[0] == '9':\n",
    "            call_number = '+7(' + ''.join(valid1[:3]) + ')-' + ''.join(valid1[3:6]) + '-' \\\n",
    "            + ''.join(valid1[6:8]) + '-' + ''.join(valid1[8:10])\n",
    "        else:\n",
    "            call_number = '+7(' +''.join(valid1[1:4]) + ')-' + ''.join(valid1[4:7]) + '-' \\\n",
    "            + ''.join(valid1[7:9]) + '-' + ''.join(valid1[9:11])\n",
    "    else:\n",
    "        return('телефон введен некорректно!')\n",
    "    return (call_number)\n",
    "# print(call_number_validate())"
   ]
  }
 ],
 "metadata": {
  "kernelspec": {
   "display_name": "Python 3",
   "language": "python",
   "name": "python3"
  },
  "language_info": {
   "codemirror_mode": {
    "name": "ipython",
    "version": 3
   },
   "file_extension": ".py",
   "mimetype": "text/x-python",
   "name": "python",
   "nbconvert_exporter": "python",
   "pygments_lexer": "ipython3",
   "version": "3.7.4"
  }
 },
 "nbformat": 4,
 "nbformat_minor": 2
}
